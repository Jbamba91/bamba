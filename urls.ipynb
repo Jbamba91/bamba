{
 "cells": [
  {
   "cell_type": "code",
   "execution_count": 5,
   "id": "5446918e-60b9-4ea6-8d5e-34a63567079a",
   "metadata": {},
   "outputs": [],
   "source": [
    "import os\n",
    "import pandas as pd"
   ]
  },
  {
   "cell_type": "code",
   "execution_count": 6,
   "id": "649fcf81-0728-4248-b057-bc6ed4e5ff92",
   "metadata": {},
   "outputs": [],
   "source": [
    "DIR = '/home/aubrey/Desktop/bamba'                        # Directory in which the .git file exists\n",
    "PREFIX = 'https://github.com/aubreymoore/bamba/raw/main/' # First part of an URL for the download links"
   ]
  },
  {
   "cell_type": "code",
   "execution_count": 7,
   "id": "a31e0522-2669-4dc6-8848-bfd77bdf2cf5",
   "metadata": {},
   "outputs": [
    {
     "data": {
      "text/plain": [
       "0"
      ]
     },
     "execution_count": 7,
     "metadata": {},
     "output_type": "execute_result"
    }
   ],
   "source": [
    "# Save a list of all files in the local git repo in a text file\n",
    "os.chdir(DIR)\n",
    "os.system('git ls-files > file_list.txt')"
   ]
  },
  {
   "cell_type": "code",
   "execution_count": 8,
   "id": "165a8dfd-b26b-43cf-9739-62e07479549e",
   "metadata": {},
   "outputs": [
    {
     "data": {
      "text/html": [
       "<div>\n",
       "<style scoped>\n",
       "    .dataframe tbody tr th:only-of-type {\n",
       "        vertical-align: middle;\n",
       "    }\n",
       "\n",
       "    .dataframe tbody tr th {\n",
       "        vertical-align: top;\n",
       "    }\n",
       "\n",
       "    .dataframe thead th {\n",
       "        text-align: right;\n",
       "    }\n",
       "</style>\n",
       "<table border=\"1\" class=\"dataframe\">\n",
       "  <thead>\n",
       "    <tr style=\"text-align: right;\">\n",
       "      <th></th>\n",
       "      <th>filename</th>\n",
       "      <th>url</th>\n",
       "    </tr>\n",
       "  </thead>\n",
       "  <tbody>\n",
       "    <tr>\n",
       "      <th>0</th>\n",
       "      <td>CORE Reviews schedule sep 2022/9 21 2022 evals sign in/9-21-2022 core review evals.pdf</td>\n",
       "      <td>https://github.com/aubreymoore/bamba/raw/main/CORE Reviews schedule sep 2022/9 21 2022 evals sign in/9-21-2022 core review evals.pdf</td>\n",
       "    </tr>\n",
       "    <tr>\n",
       "      <th>1</th>\n",
       "      <td>CORE Reviews schedule sep 2022/9 21 2022 evals sign in/9-21-2022 core sign in sheet.pdf</td>\n",
       "      <td>https://github.com/aubreymoore/bamba/raw/main/CORE Reviews schedule sep 2022/9 21 2022 evals sign in/9-21-2022 core sign in sheet.pdf</td>\n",
       "    </tr>\n",
       "    <tr>\n",
       "      <th>2</th>\n",
       "      <td>CORE Reviews schedule sep 2022/Agenda for CORE PAT September 2022.doc</td>\n",
       "      <td>https://github.com/aubreymoore/bamba/raw/main/CORE Reviews schedule sep 2022/Agenda for CORE PAT September 2022.doc</td>\n",
       "    </tr>\n",
       "    <tr>\n",
       "      <th>3</th>\n",
       "      <td>CORE Reviews schedule sep 2022/Class activity math review sheet key.docx</td>\n",
       "      <td>https://github.com/aubreymoore/bamba/raw/main/CORE Reviews schedule sep 2022/Class activity math review sheet key.docx</td>\n",
       "    </tr>\n",
       "    <tr>\n",
       "      <th>4</th>\n",
       "      <td>CORE Reviews schedule sep 2022/Class activity math review sheet.docx</td>\n",
       "      <td>https://github.com/aubreymoore/bamba/raw/main/CORE Reviews schedule sep 2022/Class activity math review sheet.docx</td>\n",
       "    </tr>\n",
       "    <tr>\n",
       "      <th>...</th>\n",
       "      <td>...</td>\n",
       "      <td>...</td>\n",
       "    </tr>\n",
       "    <tr>\n",
       "      <th>803</th>\n",
       "      <td>workshops/farmer focus group 2021/Farmer focus group 2021 hyatt.pdf</td>\n",
       "      <td>https://github.com/aubreymoore/bamba/raw/main/workshops/farmer focus group 2021/Farmer focus group 2021 hyatt.pdf</td>\n",
       "    </tr>\n",
       "    <tr>\n",
       "      <th>804</th>\n",
       "      <td>workshops/farmer focus group 2021/Letter of Appreciation june 19 21 farm survey.pdf</td>\n",
       "      <td>https://github.com/aubreymoore/bamba/raw/main/workshops/farmer focus group 2021/Letter of Appreciation june 19 21 farm survey.pdf</td>\n",
       "    </tr>\n",
       "    <tr>\n",
       "      <th>805</th>\n",
       "      <td>~$mprehensiveStatement_Bamba_18 month ContEmploy_FINALB (AutoRecovered).doc</td>\n",
       "      <td>https://github.com/aubreymoore/bamba/raw/main/~$mprehensiveStatement_Bamba_18 month ContEmploy_FINALB (AutoRecovered).doc</td>\n",
       "    </tr>\n",
       "    <tr>\n",
       "      <th>806</th>\n",
       "      <td>~$mprehensiveStatement_Bamba_18 month ContEmploy_FINALB.doc</td>\n",
       "      <td>https://github.com/aubreymoore/bamba/raw/main/~$mprehensiveStatement_Bamba_18 month ContEmploy_FINALB.doc</td>\n",
       "    </tr>\n",
       "    <tr>\n",
       "      <th>807</th>\n",
       "      <td>~WRL0001.tmp</td>\n",
       "      <td>https://github.com/aubreymoore/bamba/raw/main/~WRL0001.tmp</td>\n",
       "    </tr>\n",
       "  </tbody>\n",
       "</table>\n",
       "<p>808 rows × 2 columns</p>\n",
       "</div>"
      ],
      "text/plain": [
       "                                                                                    filename  \\\n",
       "0     CORE Reviews schedule sep 2022/9 21 2022 evals sign in/9-21-2022 core review evals.pdf   \n",
       "1    CORE Reviews schedule sep 2022/9 21 2022 evals sign in/9-21-2022 core sign in sheet.pdf   \n",
       "2                      CORE Reviews schedule sep 2022/Agenda for CORE PAT September 2022.doc   \n",
       "3                   CORE Reviews schedule sep 2022/Class activity math review sheet key.docx   \n",
       "4                       CORE Reviews schedule sep 2022/Class activity math review sheet.docx   \n",
       "..                                                                                       ...   \n",
       "803                      workshops/farmer focus group 2021/Farmer focus group 2021 hyatt.pdf   \n",
       "804      workshops/farmer focus group 2021/Letter of Appreciation june 19 21 farm survey.pdf   \n",
       "805              ~$mprehensiveStatement_Bamba_18 month ContEmploy_FINALB (AutoRecovered).doc   \n",
       "806                              ~$mprehensiveStatement_Bamba_18 month ContEmploy_FINALB.doc   \n",
       "807                                                                             ~WRL0001.tmp   \n",
       "\n",
       "                                                                                                                                       url  \n",
       "0     https://github.com/aubreymoore/bamba/raw/main/CORE Reviews schedule sep 2022/9 21 2022 evals sign in/9-21-2022 core review evals.pdf  \n",
       "1    https://github.com/aubreymoore/bamba/raw/main/CORE Reviews schedule sep 2022/9 21 2022 evals sign in/9-21-2022 core sign in sheet.pdf  \n",
       "2                      https://github.com/aubreymoore/bamba/raw/main/CORE Reviews schedule sep 2022/Agenda for CORE PAT September 2022.doc  \n",
       "3                   https://github.com/aubreymoore/bamba/raw/main/CORE Reviews schedule sep 2022/Class activity math review sheet key.docx  \n",
       "4                       https://github.com/aubreymoore/bamba/raw/main/CORE Reviews schedule sep 2022/Class activity math review sheet.docx  \n",
       "..                                                                                                                                     ...  \n",
       "803                      https://github.com/aubreymoore/bamba/raw/main/workshops/farmer focus group 2021/Farmer focus group 2021 hyatt.pdf  \n",
       "804      https://github.com/aubreymoore/bamba/raw/main/workshops/farmer focus group 2021/Letter of Appreciation june 19 21 farm survey.pdf  \n",
       "805              https://github.com/aubreymoore/bamba/raw/main/~$mprehensiveStatement_Bamba_18 month ContEmploy_FINALB (AutoRecovered).doc  \n",
       "806                              https://github.com/aubreymoore/bamba/raw/main/~$mprehensiveStatement_Bamba_18 month ContEmploy_FINALB.doc  \n",
       "807                                                                             https://github.com/aubreymoore/bamba/raw/main/~WRL0001.tmp  \n",
       "\n",
       "[808 rows x 2 columns]"
      ]
     },
     "execution_count": 8,
     "metadata": {},
     "output_type": "execute_result"
    }
   ],
   "source": [
    "# Import the text file into a pandas dataframe and add an URL column\n",
    "pd.options.display.max_colwidth = 200\n",
    "df = pd.read_csv('file_list.txt', names=['filename'], sep='|')\n",
    "df = df.assign(url = lambda x: PREFIX + df['filename'])\n",
    "df"
   ]
  },
  {
   "cell_type": "code",
   "execution_count": 9,
   "id": "aca0b733-6924-439e-8b3b-ff116ccd1474",
   "metadata": {
    "tags": []
   },
   "outputs": [
    {
     "name": "stdout",
     "output_type": "stream",
     "text": [
      "FINISHED\n"
     ]
    }
   ],
   "source": [
    "# Save the dataframe as a CSV file\n",
    "df.to_csv('urls.csv')\n",
    "print('FINISHED')"
   ]
  },
  {
   "cell_type": "code",
   "execution_count": null,
   "id": "bf6a5135-a607-4c3c-8334-0535d9a09679",
   "metadata": {},
   "outputs": [],
   "source": []
  }
 ],
 "metadata": {
  "kernelspec": {
   "display_name": "Python 3",
   "language": "python",
   "name": "python3"
  },
  "language_info": {
   "codemirror_mode": {
    "name": "ipython",
    "version": 3
   },
   "file_extension": ".py",
   "mimetype": "text/x-python",
   "name": "python",
   "nbconvert_exporter": "python",
   "pygments_lexer": "ipython3",
   "version": "3.8.10"
  }
 },
 "nbformat": 4,
 "nbformat_minor": 5
}
