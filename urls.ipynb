{
 "cells": [
  {
   "cell_type": "code",
   "execution_count": 80,
   "id": "5446918e-60b9-4ea6-8d5e-34a63567079a",
   "metadata": {},
   "outputs": [],
   "source": [
    "import os\n",
    "import pandas as pd"
   ]
  },
  {
   "cell_type": "code",
   "execution_count": 81,
   "id": "649fcf81-0728-4248-b057-bc6ed4e5ff92",
   "metadata": {},
   "outputs": [],
   "source": [
    "DIR = '/home/aubrey/Desktop/jesse'                        # Directory in which the .git file exists\n",
    "PREFIX = 'https://github.com/aubreymoore/bamba/raw/main/' # First part of an URL for the download links"
   ]
  },
  {
   "cell_type": "code",
   "execution_count": 82,
   "id": "a31e0522-2669-4dc6-8848-bfd77bdf2cf5",
   "metadata": {},
   "outputs": [
    {
     "data": {
      "text/plain": [
       "0"
      ]
     },
     "execution_count": 82,
     "metadata": {},
     "output_type": "execute_result"
    }
   ],
   "source": [
    "# Save a list of all files in the local git repo in a text file\n",
    "os.chdir(DIR)\n",
    "os.system('git ls-files > file_list.txt')"
   ]
  },
  {
   "cell_type": "code",
   "execution_count": 83,
   "id": "165a8dfd-b26b-43cf-9739-62e07479549e",
   "metadata": {},
   "outputs": [
    {
     "data": {
      "text/html": [
       "<div>\n",
       "<style scoped>\n",
       "    .dataframe tbody tr th:only-of-type {\n",
       "        vertical-align: middle;\n",
       "    }\n",
       "\n",
       "    .dataframe tbody tr th {\n",
       "        vertical-align: top;\n",
       "    }\n",
       "\n",
       "    .dataframe thead th {\n",
       "        text-align: right;\n",
       "    }\n",
       "</style>\n",
       "<table border=\"1\" class=\"dataframe\">\n",
       "  <thead>\n",
       "    <tr style=\"text-align: right;\">\n",
       "      <th></th>\n",
       "      <th>filename</th>\n",
       "      <th>url</th>\n",
       "    </tr>\n",
       "  </thead>\n",
       "  <tbody>\n",
       "    <tr>\n",
       "      <th>0</th>\n",
       "      <td>README.md</td>\n",
       "      <td>https://github.com/aubreymoore/bamba/raw/main/README.md</td>\n",
       "    </tr>\n",
       "    <tr>\n",
       "      <th>1</th>\n",
       "      <td>Whatsapp pics/Duane lee avocado problem.jpg</td>\n",
       "      <td>https://github.com/aubreymoore/bamba/raw/main/Whatsapp pics/Duane lee avocado problem.jpg</td>\n",
       "    </tr>\n",
       "    <tr>\n",
       "      <th>2</th>\n",
       "      <td>Whatsapp pics/Kyle messaging using Whatsapp.jpg</td>\n",
       "      <td>https://github.com/aubreymoore/bamba/raw/main/Whatsapp pics/Kyle messaging using Whatsapp.jpg</td>\n",
       "    </tr>\n",
       "    <tr>\n",
       "      <th>3</th>\n",
       "      <td>Whatsapp pics/Rose pest problems on ornamentals.jpg</td>\n",
       "      <td>https://github.com/aubreymoore/bamba/raw/main/Whatsapp pics/Rose pest problems on ornamentals.jpg</td>\n",
       "    </tr>\n",
       "    <tr>\n",
       "      <th>4</th>\n",
       "      <td>Whatsapp pics/Vic grafting questions.jpg</td>\n",
       "      <td>https://github.com/aubreymoore/bamba/raw/main/Whatsapp pics/Vic grafting questions.jpg</td>\n",
       "    </tr>\n",
       "    <tr>\n",
       "      <th>5</th>\n",
       "      <td>Whatsapp pics/duane lee coconut tree problems.jpg</td>\n",
       "      <td>https://github.com/aubreymoore/bamba/raw/main/Whatsapp pics/duane lee coconut tree problems.jpg</td>\n",
       "    </tr>\n",
       "    <tr>\n",
       "      <th>6</th>\n",
       "      <td>Whatsapp pics/duane lee papaya problem.jpg</td>\n",
       "      <td>https://github.com/aubreymoore/bamba/raw/main/Whatsapp pics/duane lee papaya problem.jpg</td>\n",
       "    </tr>\n",
       "    <tr>\n",
       "      <th>7</th>\n",
       "      <td>Whatsapp pics/jeff whatsapp plant problem.jpg</td>\n",
       "      <td>https://github.com/aubreymoore/bamba/raw/main/Whatsapp pics/jeff whatsapp plant problem.jpg</td>\n",
       "    </tr>\n",
       "    <tr>\n",
       "      <th>8</th>\n",
       "      <td>Whatsapp pics/kyle pepper problem.jpg</td>\n",
       "      <td>https://github.com/aubreymoore/bamba/raw/main/Whatsapp pics/kyle pepper problem.jpg</td>\n",
       "    </tr>\n",
       "    <tr>\n",
       "      <th>9</th>\n",
       "      <td>Whatsapp pics/mike pest id.jpg</td>\n",
       "      <td>https://github.com/aubreymoore/bamba/raw/main/Whatsapp pics/mike pest id.jpg</td>\n",
       "    </tr>\n",
       "    <tr>\n",
       "      <th>10</th>\n",
       "      <td>Whatsapp pics/steve whatsapp mango problem.jpg</td>\n",
       "      <td>https://github.com/aubreymoore/bamba/raw/main/Whatsapp pics/steve whatsapp mango problem.jpg</td>\n",
       "    </tr>\n",
       "    <tr>\n",
       "      <th>11</th>\n",
       "      <td>Whatsapp pics/tommy pests on citrus.jpg</td>\n",
       "      <td>https://github.com/aubreymoore/bamba/raw/main/Whatsapp pics/tommy pests on citrus.jpg</td>\n",
       "    </tr>\n",
       "  </tbody>\n",
       "</table>\n",
       "</div>"
      ],
      "text/plain": [
       "                                               filename  \\\n",
       "0                                             README.md   \n",
       "1           Whatsapp pics/Duane lee avocado problem.jpg   \n",
       "2       Whatsapp pics/Kyle messaging using Whatsapp.jpg   \n",
       "3   Whatsapp pics/Rose pest problems on ornamentals.jpg   \n",
       "4              Whatsapp pics/Vic grafting questions.jpg   \n",
       "5     Whatsapp pics/duane lee coconut tree problems.jpg   \n",
       "6            Whatsapp pics/duane lee papaya problem.jpg   \n",
       "7         Whatsapp pics/jeff whatsapp plant problem.jpg   \n",
       "8                 Whatsapp pics/kyle pepper problem.jpg   \n",
       "9                        Whatsapp pics/mike pest id.jpg   \n",
       "10       Whatsapp pics/steve whatsapp mango problem.jpg   \n",
       "11              Whatsapp pics/tommy pests on citrus.jpg   \n",
       "\n",
       "                                                                                                  url  \n",
       "0                                             https://github.com/aubreymoore/bamba/raw/main/README.md  \n",
       "1           https://github.com/aubreymoore/bamba/raw/main/Whatsapp pics/Duane lee avocado problem.jpg  \n",
       "2       https://github.com/aubreymoore/bamba/raw/main/Whatsapp pics/Kyle messaging using Whatsapp.jpg  \n",
       "3   https://github.com/aubreymoore/bamba/raw/main/Whatsapp pics/Rose pest problems on ornamentals.jpg  \n",
       "4              https://github.com/aubreymoore/bamba/raw/main/Whatsapp pics/Vic grafting questions.jpg  \n",
       "5     https://github.com/aubreymoore/bamba/raw/main/Whatsapp pics/duane lee coconut tree problems.jpg  \n",
       "6            https://github.com/aubreymoore/bamba/raw/main/Whatsapp pics/duane lee papaya problem.jpg  \n",
       "7         https://github.com/aubreymoore/bamba/raw/main/Whatsapp pics/jeff whatsapp plant problem.jpg  \n",
       "8                 https://github.com/aubreymoore/bamba/raw/main/Whatsapp pics/kyle pepper problem.jpg  \n",
       "9                        https://github.com/aubreymoore/bamba/raw/main/Whatsapp pics/mike pest id.jpg  \n",
       "10       https://github.com/aubreymoore/bamba/raw/main/Whatsapp pics/steve whatsapp mango problem.jpg  \n",
       "11              https://github.com/aubreymoore/bamba/raw/main/Whatsapp pics/tommy pests on citrus.jpg  "
      ]
     },
     "execution_count": 83,
     "metadata": {},
     "output_type": "execute_result"
    }
   ],
   "source": [
    "# Import the text file into a pandas dataframe and add an URL column\n",
    "pd.options.display.max_colwidth = 200\n",
    "df = pd.read_csv('file_list.txt', names=['filename'])\n",
    "df = df.assign(url = lambda x: PREFIX + df['filename'])\n",
    "df"
   ]
  },
  {
   "cell_type": "code",
   "execution_count": 84,
   "id": "aca0b733-6924-439e-8b3b-ff116ccd1474",
   "metadata": {
    "tags": []
   },
   "outputs": [
    {
     "name": "stdout",
     "output_type": "stream",
     "text": [
      "FINISHED\n"
     ]
    }
   ],
   "source": [
    "# Save the dataframe as a CSV file\n",
    "df.to_csv('urls.csv')\n",
    "print('FINISHED')"
   ]
  }
 ],
 "metadata": {
  "kernelspec": {
   "display_name": "Python 3",
   "language": "python",
   "name": "python3"
  },
  "language_info": {
   "codemirror_mode": {
    "name": "ipython",
    "version": 3
   },
   "file_extension": ".py",
   "mimetype": "text/x-python",
   "name": "python",
   "nbconvert_exporter": "python",
   "pygments_lexer": "ipython3",
   "version": "3.8.10"
  }
 },
 "nbformat": 4,
 "nbformat_minor": 5
}
